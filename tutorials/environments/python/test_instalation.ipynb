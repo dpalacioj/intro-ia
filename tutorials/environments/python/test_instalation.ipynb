{
 "cells": [
  {
   "cell_type": "code",
   "execution_count": 2,
   "metadata": {},
   "outputs": [],
   "source": [
    "import numpy as np\n",
    "import pandas as pd\n",
    "import matplotlib.pyplot as plt\n",
    "import seaborn as sns\n",
    "import sklearn\n",
    "from sklearn.linear_model import LinearRegression"
   ]
  },
  {
   "cell_type": "code",
   "execution_count": 3,
   "metadata": {},
   "outputs": [],
   "source": [
    "def check_package(package_name):\n",
    "    try:\n",
    "        __import__(package_name)\n",
    "        print(f\"{package_name} is installed.\")\n",
    "    except ImportError:\n",
    "        print(f\"{package_name} is NOT installed.\")"
   ]
  },
  {
   "cell_type": "code",
   "execution_count": 4,
   "metadata": {},
   "outputs": [],
   "source": [
    "def generate_random_data():\n",
    "\n",
    "    np.random.seed(42)\n",
    "    x = np.random.rand(50)\n",
    "    y = 2 * x + 1 + 0.2 * np.random.randn(50)\n",
    "    return x, y"
   ]
  },
  {
   "cell_type": "code",
   "execution_count": 5,
   "metadata": {},
   "outputs": [],
   "source": [
    "def create_dataframe(x, y):\n",
    "    data = pd.DataFrame({'X': x, 'Y': y})\n",
    "    return data"
   ]
  },
  {
   "cell_type": "code",
   "execution_count": 8,
   "metadata": {},
   "outputs": [],
   "source": [
    "def fit_linear_regression(data):\n",
    "    x = data['X'].values.reshape(-1, 1)\n",
    "    y = data['Y'].values\n",
    "    model = LinearRegression()\n",
    "    model.fit(x, y)\n",
    "    return model"
   ]
  },
  {
   "cell_type": "code",
   "execution_count": 12,
   "metadata": {},
   "outputs": [],
   "source": [
    "def plot_regression_line(data, model):\n",
    "    plt.scatter(data['X'], data['Y'])\n",
    "    plt.plot(data['X'], model.predict(data['X'].values.reshape(-1, 1)), color='red')\n",
    "    plt.xlabel(\"X\")\n",
    "    plt.ylabel(\"Y\")\n",
    "    plt.title(\"Scatter Plot with Regression Line\")\n",
    "    #plt.savefig(\"scatter_plot_regression.png\")\n",
    "    plt.close()"
   ]
  },
  {
   "cell_type": "code",
   "execution_count": 13,
   "metadata": {},
   "outputs": [
    {
     "name": "stdout",
     "output_type": "stream",
     "text": [
      "numpy is installed.\n",
      "pandas is installed.\n",
      "matplotlib is installed.\n",
      "seaborn is installed.\n",
      "sklearn is installed.\n"
     ]
    }
   ],
   "source": [
    "if __name__ == \"__main__\":\n",
    "    packages_to_check = [\"numpy\", \"pandas\", \"matplotlib\", \"seaborn\", \"sklearn\"]\n",
    "\n",
    "    for package in packages_to_check:\n",
    "        check_package(package)\n",
    "\n",
    "    # Generate random data\n",
    "    x, y = generate_random_data()\n",
    "\n",
    "    # Create a DataFrame using pandas\n",
    "    data = create_dataframe(x, y)\n",
    "\n",
    "    # Fit a simple linear regression model using scikit-learn\n",
    "    model = fit_linear_regression(data)\n",
    "\n",
    "    # Create a scatter plot with the regression line using matplotlib\n",
    "    plot_regression_line(data, model)"
   ]
  },
  {
   "cell_type": "code",
   "execution_count": 14,
   "metadata": {},
   "outputs": [
    {
     "data": {
      "image/png": "[encoded data removed]",
      "text/plain": [
       "<Figure size 640x480 with 1 Axes>"
      ]
     },
     "metadata": {},
     "output_type": "display_data"
    }
   ],
   "source": [
    "# Create a scatter plot using seaborn\n",
    "sns.set(style=\"darkgrid\", palette=\"muted\")\n",
    "sns.scatterplot(x='X', y='Y', data=data)\n",
    "plt.xlabel(\"X\")\n",
    "plt.ylabel(\"Y\")\n",
    "plt.title(\"Scatter Plot using Seaborn\")\n",
    "#plt.savefig(\"scatter_plot_seaborn.png\")\n",
    "plt.show()\n",
    "plt.close()\n",
    "\n",
    "#print(\"Plots saved successfully.\")"
   ]
  },
  {
   "cell_type": "code",
   "execution_count": null,
   "metadata": {},
   "outputs": [],
   "source": []
  }
 ],
 "metadata": {
  "kernelspec": {
   "display_name": ".venv",
   "language": "python",
   "name": "python3"
  },
  "language_info": {
   "codemirror_mode": {
    "name": "ipython",
    "version": 3
   },
   "file_extension": ".py",
   "mimetype": "text/x-python",
   "name": "python",
   "nbconvert_exporter": "python",
   "pygments_lexer": "ipython3",
   "version": "3.12.7"
  }
 },
 "nbformat": 4,
 "nbformat_minor": 2
}
