{
 "cells": [
  {
   "cell_type": "markdown",
   "metadata": {},
   "source": [
    "**Curso:** Introducción a la Inteligencia Artificial <br/>\n",
    "**Profesor:** David Palacio <br/>"
   ]
  },
  {
   "cell_type": "markdown",
   "metadata": {},
   "source": [
    "# 1. Python and Notebooks Introduction"
   ]
  },
  {
   "cell_type": "markdown",
   "metadata": {},
   "source": [
    "This course will introduce you to a series of computational tools that make the life of the Data Scientist possible, and much easier. All of them are [open source](https://www.youtube.com/watch?v=PVD1LNDxOnc), which means the creators of these piece of software have made available the source code for people to use it, study it, modify it, and re-distribute it. <br/>\n",
    "\n",
    "If you want to learn more about open-source, you can chekc the following video:\n",
    "* [Brief explanation of open source software](https://www.youtube.com/watch?v=PVD1LNDxOnc)"
   ]
  },
  {
   "cell_type": "markdown",
   "metadata": {},
   "source": [
    "Also, if you want to check Google Colaboratory Notebooks as resource to use Python language and SQL syntax, you can take a look of the next tutorials:\n",
    "\n",
    "* [Spanish video with explanation](https://www.youtube.com/watch?v=9g61bnipcSs)\n",
    "* [Google Colab Introduction](https://colab.research.google.com/drive/16pBJQePbqkz3QFV54L4NIkOn1kwpuRrj)"
   ]
  },
  {
   "cell_type": "markdown",
   "metadata": {},
   "source": []
  },
  {
   "cell_type": "markdown",
   "metadata": {},
   "source": []
  }
 ],
 "metadata": {
  "language_info": {
   "name": "python"
  }
 },
 "nbformat": 4,
 "nbformat_minor": 2
}
